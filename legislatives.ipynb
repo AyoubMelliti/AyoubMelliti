{
  "nbformat": 4,
  "nbformat_minor": 0,
  "metadata": {
    "colab": {
      "provenance": [],
      "authorship_tag": "ABX9TyMWuEyzC3bfD+GP4Gn6/JYE",
      "include_colab_link": true
    },
    "kernelspec": {
      "name": "python3",
      "display_name": "Python 3"
    },
    "language_info": {
      "name": "python"
    }
  },
  "cells": [
    {
      "cell_type": "markdown",
      "metadata": {
        "id": "view-in-github",
        "colab_type": "text"
      },
      "source": [
        "<a href=\"https://colab.research.google.com/github/AyoubMelliti/AyoubMelliti/blob/main/legislatives.ipynb\" target=\"_parent\"><img src=\"https://colab.research.google.com/assets/colab-badge.svg\" alt=\"Open In Colab\"/></a>"
      ]
    },
    {
      "cell_type": "markdown",
      "source": [
        "#Premier tour"
      ],
      "metadata": {
        "id": "-fQbiYlKcHN9"
      }
    },
    {
      "cell_type": "code",
      "source": [
        "# -*- coding: utf-8 -*-\n",
        "# Notebook : Analyse des évolutions des votes aux législatives (2012, 2017, 2022, 2024)\n",
        "\n",
        "import pandas as pd\n",
        "import requests\n",
        "import io\n",
        "import os\n",
        "\n",
        "# Pour les visualisations\n",
        "import matplotlib.pyplot as plt\n",
        "import seaborn as sns\n",
        "sns.set_style(\"whitegrid\")\n",
        "\n",
        "years = [2024]\n",
        "years_urls = {}\n",
        "years_urls[2024]='https://www.data.gouv.fr/api/1/datasets/r/41ed46cd-77c2-4ecc-b8eb-374aa953ca39'\n",
        "# --- Fonctions utilitaires pour charger les données ---\n",
        "\n",
        "def download_csv(url, sep=\",\", encoding=\"utf-8\"):\n",
        "    \"\"\"\n",
        "    Télécharge un fichier CSV depuis une URL et le charge dans un DataFrame pandas.\n",
        "    \"\"\"\n",
        "    resp = requests.get(url)\n",
        "    resp.raise_for_status()\n",
        "    # On peut avoir du ; comme séparateur selon les fichiers\n",
        "    return pd.read_csv(io.StringIO(resp.text), sep=sep, encoding=encoding)\n",
        "\n",
        "\n",
        "def load_result(url):\n",
        "    try:\n",
        "      results = download_csv('url')\n",
        "    except Exception as e:\n",
        "      print(f\"  Problème pour {y} : {e}\")\n",
        "\n",
        "    return\n",
        "\n"
      ],
      "metadata": {
        "id": "aFVmFWH9aNki"
      },
      "execution_count": 2,
      "outputs": []
    },
    {
      "cell_type": "code",
      "source": [
        "# --- Chargement des données pour les années désirées ---\n",
        "\n",
        "\n",
        "data_general = {}\n",
        "data_candidat = {}\n",
        "for y in years:\n",
        "    print(f\"Chargement pour {y} ...\")\n",
        "    try:\n",
        "        gen, cand = load_legislatives(y)\n",
        "        data_general[y] = gen\n",
        "        data_candidat[y] = cand\n",
        "        print(f\"  Général : {gen.shape}, Candidats : {cand.shape}\")\n",
        "    except Exception as e:\n",
        "        print(f\"  Erreur pour {y} : {e}\")\n"
      ],
      "metadata": {
        "colab": {
          "base_uri": "https://localhost:8080/"
        },
        "id": "xQ0H4DW8aQ7M",
        "outputId": "d215ba31-6ca4-48a1-e5ee-b7984a1eaac0"
      },
      "execution_count": 6,
      "outputs": [
        {
          "output_type": "stream",
          "name": "stdout",
          "text": [
            "Chargement pour 2024 ...\n",
            "  Erreur pour 2024 : 404 Client Error: NOT FOUND for url: https://www.data.gouv.fr/fr/datasets/r/general-results.csv\n"
          ]
        }
      ]
    },
    {
      "cell_type": "code",
      "execution_count": 1,
      "metadata": {
        "colab": {
          "base_uri": "https://localhost:8080/",
          "height": 349
        },
        "id": "lxBzWOC-Z8DS",
        "outputId": "24bd93c5-9fb6-4c15-f1fe-f22b2f3ec566"
      },
      "outputs": [
        {
          "output_type": "stream",
          "name": "stdout",
          "text": [
            "Chargement pour 2012 ...\n",
            "  Erreur pour 2012 : 404 Client Error: NOT FOUND for url: https://www.data.gouv.fr/fr/datasets/r/general-results.csv\n",
            "Chargement pour 2017 ...\n",
            "  Erreur pour 2017 : 404 Client Error: NOT FOUND for url: https://www.data.gouv.fr/fr/datasets/r/general-results.csv\n",
            "Chargement pour 2022 ...\n",
            "  Erreur pour 2022 : 404 Client Error: NOT FOUND for url: https://www.data.gouv.fr/fr/datasets/r/general-results.csv\n",
            "Chargement pour 2024 ...\n",
            "  Erreur pour 2024 : 404 Client Error: NOT FOUND for url: https://www.data.gouv.fr/fr/datasets/r/general-results.csv\n"
          ]
        },
        {
          "output_type": "error",
          "ename": "KeyError",
          "evalue": "2012",
          "traceback": [
            "\u001b[0;31m---------------------------------------------------------------------------\u001b[0m",
            "\u001b[0;31mKeyError\u001b[0m                                  Traceback (most recent call last)",
            "\u001b[0;32m/tmp/ipython-input-1596317609.py\u001b[0m in \u001b[0;36m<cell line: 0>\u001b[0;34m()\u001b[0m\n\u001b[1;32m    120\u001b[0m \u001b[0;34m\u001b[0m\u001b[0m\n\u001b[1;32m    121\u001b[0m \u001b[0;32mfor\u001b[0m \u001b[0my\u001b[0m \u001b[0;32min\u001b[0m \u001b[0myears\u001b[0m\u001b[0;34m:\u001b[0m\u001b[0;34m\u001b[0m\u001b[0;34m\u001b[0m\u001b[0m\n\u001b[0;32m--> 122\u001b[0;31m     \u001b[0mdfc\u001b[0m \u001b[0;34m=\u001b[0m \u001b[0mdata_candidat\u001b[0m\u001b[0;34m[\u001b[0m\u001b[0my\u001b[0m\u001b[0;34m]\u001b[0m\u001b[0;34m\u001b[0m\u001b[0;34m\u001b[0m\u001b[0m\n\u001b[0m\u001b[1;32m    123\u001b[0m     \u001b[0;32mif\u001b[0m \u001b[0;34m'nuance'\u001b[0m \u001b[0;32min\u001b[0m \u001b[0mdfc\u001b[0m\u001b[0;34m.\u001b[0m\u001b[0mcolumns\u001b[0m\u001b[0;34m:\u001b[0m\u001b[0;34m\u001b[0m\u001b[0;34m\u001b[0m\u001b[0m\n\u001b[1;32m    124\u001b[0m         \u001b[0mdata_candidat\u001b[0m\u001b[0;34m[\u001b[0m\u001b[0my\u001b[0m\u001b[0;34m]\u001b[0m \u001b[0;34m=\u001b[0m \u001b[0mharmonize_parti\u001b[0m\u001b[0;34m(\u001b[0m\u001b[0mdfc\u001b[0m\u001b[0;34m,\u001b[0m \u001b[0mcol\u001b[0m\u001b[0;34m=\u001b[0m\u001b[0;34m'nuance'\u001b[0m\u001b[0;34m)\u001b[0m\u001b[0;34m\u001b[0m\u001b[0;34m\u001b[0m\u001b[0m\n",
            "\u001b[0;31mKeyError\u001b[0m: 2012"
          ]
        }
      ],
      "source": [
        "\n",
        "\n",
        "\n",
        "\n",
        "\n",
        "\n",
        "# --- Harmonisation des noms de partis / nuançage ---\n",
        "\n",
        "def harmonize_parti(df, col='nuance'):\n",
        "    \"\"\"\n",
        "    Harmoniser les noms des partis ou nuances pour avoir une cohérence entre années\n",
        "    (Exemple : 'RN' et 'Rassemblement National', 'PS', 'Parti Socialiste', etc.)\n",
        "    \"\"\"\n",
        "    mapping = {\n",
        "        'Rassemblement National': 'RN',\n",
        "        'Front national': 'RN',\n",
        "        'La République en marche': 'LREM',\n",
        "        'Ensemble': 'ENS',\n",
        "        'LR': 'LR',\n",
        "        'Les Républicains': 'LR',\n",
        "        'Parti socialiste': 'PS',\n",
        "        'PS': 'PS',\n",
        "        'La France insoumise': 'LFI',\n",
        "        'EELV': 'EELV',\n",
        "        'Europe Écologie Les Verts': 'EELV',\n",
        "        # etc. Ajouter les autres partis ou nuancés que vous voulez suivre\n",
        "    }\n",
        "    df[col] = df[col].map(lambda x: mapping.get(x, x))\n",
        "    return df\n",
        "\n",
        "for y in years:\n",
        "    dfc = data_candidat[y]\n",
        "    if 'nuance' in dfc.columns:\n",
        "        data_candidat[y] = harmonize_parti(dfc, col='nuance')\n",
        "    elif 'parti' in dfc.columns:\n",
        "        data_candidat[y] = harmonize_parti(dfc, col='parti')\n",
        "    else:\n",
        "        print(f\"  Attention : pas de colonne nuance/parti pour {y}\")\n",
        "\n",
        "\n",
        "# --- Calcul de la part de voix d’un parti selon la circonscription, pour chaque année ---\n",
        "\n",
        "\n",
        "def compute_share_by_circo(year, party, df_cand, df_gen):\n",
        "    \"\"\"\n",
        "    Pour l'année donnée, calculer pour chaque circonscription la part de voix obtenue par le parti donné.\n",
        "    Hypothèses :\n",
        "      - df_cand contient une colonne 'nuance' ou 'parti' indiquant l'appartenance\n",
        "      - df_cand contient une colonne 'voix' pour les voix du candidat\n",
        "      - df_gen contient une colonne 'voix_exprimes' ou équivalent pour total exprimé\n",
        "      - df_cand et df_gen ont une colonne 'circonscription' identifiant la circonscription législative\n",
        "    Retourne un DataFrame avec colonisation circonscription, part du parti, total exprimé, voix du parti\n",
        "    \"\"\"\n",
        "    if 'voix' not in df_cand.columns:\n",
        "        raise ValueError(\"La colonne 'voix' n'existe pas dans df_cand\")\n",
        "    if 'voix_exprimes' in df_gen.columns:\n",
        "        total_col = 'voix_exprimes'\n",
        "    elif 'exprimés' in df_gen.columns:\n",
        "        total_col = 'exprimés'\n",
        "    else:\n",
        "        # chercher dans les colonnes imprimées\n",
        "        raise ValueError(\"Impossible de trouver la colonne du total des voix exprimées dans général\")\n",
        "\n",
        "    # nettoyer les colonnes de circonscription\n",
        "    # selon que la colonne s’appelle 'circonscription', 'lib_circonscription' ou autre\n",
        "    circ_col = 'circonscription' if 'circonscription' in df_cand.columns else None\n",
        "    if circ_col is None:\n",
        "        raise ValueError(\"Pas de colonne circonscription dans df_cand\")\n",
        "\n",
        "    # Votes du parti par circo\n",
        "    dfp = df_cand[ df_cand['nuance'] == party ].groupby(circ_col)['voix'].sum().reset_index().rename(columns={'voix': 'voix_parti'})\n",
        "    # Total exprimés par circo (depuis df_gen)\n",
        "    dft = df_gen.groupby(circ_col)[total_col].sum().reset_index().rename(columns={total_col: 'voix_exprimes'})\n",
        "\n",
        "    dfm = pd.merge(dfp, dft, on=circ_col, how='inner')\n",
        "    dfm['part_parti'] = dfm['voix_parti'] / dfm['voix_exprimes']\n",
        "    dfm['année'] = year\n",
        "    return dfm\n",
        "\n",
        "\n",
        "# --- Exemple d’analyse : évolution de la part du RN (ou autre) dans quelques circonscriptions ---\n",
        "\n",
        "\n",
        "party_of_interest = \"RN\"  # modifier selon besoin\n",
        "share_dfs = []\n",
        "\n",
        "for y in years:\n",
        "    try:\n",
        "        df_share = compute_share_by_circo(y, party_of_interest, data_candidat[y], data_general[y])\n",
        "        share_dfs.append(df_share)\n",
        "    except Exception as e:\n",
        "        print(f\"  Problème pour {y} : {e}\")\n",
        "\n",
        "df_all = pd.concat(share_dfs, ignore_index=True)\n",
        "\n",
        "\n",
        "# --- Visualisation : tracé de l’évolution de la part de voix par circonscription pour ce parti ---\n",
        "\n",
        "plt.figure(figsize=(14, 7))\n",
        "sns.lineplot(data=df_all, x='année', y='part_parti', hue='circonscription', legend=False, alpha=0.3)\n",
        "plt.title(f\"Évolution de la part de voix de {party_of_interest} par circonscription (2012-2024)\")\n",
        "plt.ylabel(\"Part de voix exprimées\")\n",
        "plt.xlabel(\"Année\")\n",
        "plt.show()\n",
        "\n",
        "\n",
        "# --- Visualisation : évolution moyenne nationale du parti ---\n",
        "\n",
        "df_national = df_all.groupby('année')['part_parti'].mean().reset_index()\n",
        "\n",
        "plt.figure(figsize=(8,5))\n",
        "sns.barplot(data=df_national, x='année', y='part_parti', palette=\"viridis\")\n",
        "plt.title(f\"Part moyenne de voix de {party_of_interest} (toutes circonscriptions confondues)\")\n",
        "plt.ylabel(\"Part moyenne (circonscription)\")\n",
        "plt.xlabel(\"Année\")\n",
        "plt.show()\n",
        "\n",
        "\n"
      ]
    }
  ]
}